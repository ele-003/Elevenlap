{
 "cells": [
  {
   "cell_type": "markdown",
   "id": "2971048a-9524-4450-8476-6aa89cae4bb7",
   "metadata": {
    "jupyter": {
     "source_hidden": true
    }
   },
   "source": [
    "아래꺼 해야함"
   ]
  },
  {
   "cell_type": "code",
   "execution_count": 3,
   "id": "5f38fb3a-0a19-4d50-888c-0585b9be0b66",
   "metadata": {
    "scrolled": true
   },
   "outputs": [
    {
     "name": "stdout",
     "output_type": "stream",
     "text": [
      "Requirement already satisfied: elevenlabs in c:\\users\\dlwnd\\anaconda3\\lib\\site-packages (1.13.2)\n",
      "Requirement already satisfied: httpx>=0.21.2 in c:\\users\\dlwnd\\anaconda3\\lib\\site-packages (from elevenlabs) (0.28.0)\n",
      "Requirement already satisfied: pydantic>=1.9.2 in c:\\users\\dlwnd\\anaconda3\\lib\\site-packages (from elevenlabs) (2.10.2)\n",
      "Requirement already satisfied: pydantic-core<3.0.0,>=2.18.2 in c:\\users\\dlwnd\\anaconda3\\lib\\site-packages (from elevenlabs) (2.27.1)\n",
      "Requirement already satisfied: requests>=2.20 in c:\\users\\dlwnd\\anaconda3\\lib\\site-packages (from elevenlabs) (2.32.2)\n",
      "Requirement already satisfied: typing_extensions>=4.0.0 in c:\\users\\dlwnd\\anaconda3\\lib\\site-packages (from elevenlabs) (4.12.2)\n",
      "Requirement already satisfied: websockets>=11.0 in c:\\users\\dlwnd\\anaconda3\\lib\\site-packages (from elevenlabs) (14.1)\n",
      "Requirement already satisfied: anyio in c:\\users\\dlwnd\\anaconda3\\lib\\site-packages (from httpx>=0.21.2->elevenlabs) (4.2.0)\n",
      "Requirement already satisfied: certifi in c:\\users\\dlwnd\\anaconda3\\lib\\site-packages (from httpx>=0.21.2->elevenlabs) (2024.6.2)\n",
      "Requirement already satisfied: httpcore==1.* in c:\\users\\dlwnd\\anaconda3\\lib\\site-packages (from httpx>=0.21.2->elevenlabs) (1.0.7)\n",
      "Requirement already satisfied: idna in c:\\users\\dlwnd\\anaconda3\\lib\\site-packages (from httpx>=0.21.2->elevenlabs) (3.7)\n",
      "Requirement already satisfied: h11<0.15,>=0.13 in c:\\users\\dlwnd\\anaconda3\\lib\\site-packages (from httpcore==1.*->httpx>=0.21.2->elevenlabs) (0.14.0)\n",
      "Requirement already satisfied: annotated-types>=0.6.0 in c:\\users\\dlwnd\\anaconda3\\lib\\site-packages (from pydantic>=1.9.2->elevenlabs) (0.6.0)\n",
      "Requirement already satisfied: charset-normalizer<4,>=2 in c:\\users\\dlwnd\\anaconda3\\lib\\site-packages (from requests>=2.20->elevenlabs) (2.0.4)\n",
      "Requirement already satisfied: urllib3<3,>=1.21.1 in c:\\users\\dlwnd\\anaconda3\\lib\\site-packages (from requests>=2.20->elevenlabs) (2.2.2)\n",
      "Requirement already satisfied: sniffio>=1.1 in c:\\users\\dlwnd\\anaconda3\\lib\\site-packages (from anyio->httpx>=0.21.2->elevenlabs) (1.3.0)\n",
      "Note: you may need to restart the kernel to use updated packages.\n"
     ]
    }
   ],
   "source": [
    "pip install elevenlabs"
   ]
  },
  {
   "cell_type": "code",
   "execution_count": 15,
   "id": "c78df0c4-146b-4f52-abac-7483c5f6ff26",
   "metadata": {},
   "outputs": [
    {
     "name": "stdout",
     "output_type": "stream",
     "text": [
      "{'voices': [{'voice_id': '9BWtsMINqrJLrRacOk9x', 'name': 'Aria', 'samples': None, 'category': 'premade', 'fine_tuning': {'is_allowed_to_fine_tune': True, 'state': {'eleven_multilingual_v2': 'fine_tuned', 'eleven_turbo_v2_5': 'fine_tuned', 'eleven_turbo_v2': 'fine_tuned'}, 'verification_failures': [], 'verification_attempts_count': 0, 'manual_verification_requested': False, 'language': 'en', 'progress': {}, 'message': {'eleven_multilingual_v2': '', 'eleven_turbo_v2_5': '', 'eleven_turbo_v2': ''}, 'dataset_duration_seconds': None, 'verification_attempts': None, 'slice_ids': None, 'manual_verification': None, 'max_verification_attempts': 5, 'next_max_verification_attempts_reset_unix_ms': 1700000000000}, 'labels': {'accent': 'American', 'description': 'expressive', 'age': 'middle-aged', 'gender': 'female', 'use_case': 'social media'}, 'description': None, 'preview_url': 'https://storage.googleapis.com/eleven-public-prod/premade/voices/9BWtsMINqrJLrRacOk9x/405766b8-1f4e-4d3c-aba1-6f25333823ec.mp3', 'available_for_tiers': [], 'settings': None, 'sharing': None, 'high_quality_base_model_ids': ['eleven_turbo_v2', 'eleven_turbo_v2_5', 'eleven_multilingual_v2'], 'safety_control': None, 'voice_verification': {'requires_verification': False, 'is_verified': False, 'verification_failures': [], 'verification_attempts_count': 0, 'language': None, 'verification_attempts': None}, 'permission_on_resource': None, 'is_owner': False, 'is_legacy': False, 'is_mixed': False, 'created_at_unix': None}, {'voice_id': 'CwhRBWXzGAHq8TQ4Fs17', 'name': 'Roger', 'samples': None, 'category': 'premade', 'fine_tuning': {'is_allowed_to_fine_tune': True, 'state': {'eleven_multilingual_v2': 'fine_tuned', 'eleven_turbo_v2_5': 'failed', 'eleven_turbo_v2': 'fine_tuned'}, 'verification_failures': [], 'verification_attempts_count': 0, 'manual_verification_requested': False, 'language': 'en', 'progress': {}, 'message': {'eleven_multilingual_v2': '', 'eleven_turbo_v2_5': '', 'eleven_turbo_v2': ''}, 'dataset_duration_seconds': None, 'verification_attempts': None, 'slice_ids': None, 'manual_verification': None, 'max_verification_attempts': 5, 'next_max_verification_attempts_reset_unix_ms': 1700000000000}, 'labels': {'accent': 'American', 'description': 'confident', 'age': 'middle-aged', 'gender': 'male', 'use_case': 'social media'}, 'description': None, 'preview_url': 'https://storage.googleapis.com/eleven-public-prod/premade/voices/CwhRBWXzGAHq8TQ4Fs17/58ee3ff5-f6f2-4628-93b8-e38eb31806b0.mp3', 'available_for_tiers': [], 'settings': None, 'sharing': None, 'high_quality_base_model_ids': ['eleven_turbo_v2', 'eleven_multilingual_v2', 'eleven_turbo_v2_5'], 'safety_control': None, 'voice_verification': {'requires_verification': False, 'is_verified': False, 'verification_failures': [], 'verification_attempts_count': 0, 'language': None, 'verification_attempts': None}, 'permission_on_resource': None, 'is_owner': False, 'is_legacy': False, 'is_mixed': False, 'created_at_unix': None}, {'voice_id': 'EXAVITQu4vr4xnSDxMaL', 'name': 'Sarah', 'samples': None, 'category': 'premade', 'fine_tuning': {'is_allowed_to_fine_tune': True, 'state': {}, 'verification_failures': [], 'verification_attempts_count': 0, 'manual_verification_requested': False, 'language': 'en', 'progress': {}, 'message': {}, 'dataset_duration_seconds': None, 'verification_attempts': None, 'slice_ids': None, 'manual_verification': None, 'max_verification_attempts': 5, 'next_max_verification_attempts_reset_unix_ms': 1700000000000}, 'labels': {'accent': 'american', 'description': 'soft', 'age': 'young', 'gender': 'female', 'use_case': 'news'}, 'description': None, 'preview_url': 'https://storage.googleapis.com/eleven-public-prod/premade/voices/EXAVITQu4vr4xnSDxMaL/01a3e33c-6e99-4ee7-8543-ff2216a32186.mp3', 'available_for_tiers': [], 'settings': None, 'sharing': None, 'high_quality_base_model_ids': ['eleven_turbo_v2', 'eleven_multilingual_v2', 'eleven_turbo_v2_5'], 'safety_control': None, 'voice_verification': {'requires_verification': False, 'is_verified': False, 'verification_failures': [], 'verification_attempts_count': 0, 'language': None, 'verification_attempts': None}, 'permission_on_resource': None, 'is_owner': False, 'is_legacy': False, 'is_mixed': False, 'created_at_unix': None}, {'voice_id': 'FGY2WhTYpPnrIDTdsKH5', 'name': 'Laura', 'samples': None, 'category': 'premade', 'fine_tuning': {'is_allowed_to_fine_tune': True, 'state': {'eleven_multilingual_v2': 'fine_tuned', 'eleven_turbo_v2_5': 'fine_tuned', 'eleven_turbo_v2': 'fine_tuned'}, 'verification_failures': [], 'verification_attempts_count': 0, 'manual_verification_requested': False, 'language': 'en', 'progress': {}, 'message': {'eleven_multilingual_v2': '', 'eleven_turbo_v2_5': '', 'eleven_turbo_v2': ''}, 'dataset_duration_seconds': None, 'verification_attempts': None, 'slice_ids': None, 'manual_verification': None, 'max_verification_attempts': 5, 'next_max_verification_attempts_reset_unix_ms': 1700000000000}, 'labels': {'accent': 'American', 'description': 'upbeat', 'age': 'young', 'gender': 'female', 'use_case': 'social media'}, 'description': None, 'preview_url': 'https://storage.googleapis.com/eleven-public-prod/premade/voices/FGY2WhTYpPnrIDTdsKH5/67341759-ad08-41a5-be6e-de12fe448618.mp3', 'available_for_tiers': [], 'settings': None, 'sharing': None, 'high_quality_base_model_ids': ['eleven_turbo_v2', 'eleven_multilingual_v2', 'eleven_turbo_v2_5'], 'safety_control': None, 'voice_verification': {'requires_verification': False, 'is_verified': False, 'verification_failures': [], 'verification_attempts_count': 0, 'language': None, 'verification_attempts': None}, 'permission_on_resource': None, 'is_owner': False, 'is_legacy': False, 'is_mixed': False, 'created_at_unix': None}, {'voice_id': 'IKne3meq5aSn9XLyUdCD', 'name': 'Charlie', 'samples': None, 'category': 'premade', 'fine_tuning': {'is_allowed_to_fine_tune': True, 'state': {'eleven_turbo_v2': 'fine_tuned'}, 'verification_failures': [], 'verification_attempts_count': 0, 'manual_verification_requested': False, 'language': 'en', 'progress': {}, 'message': {'eleven_turbo_v2': ''}, 'dataset_duration_seconds': None, 'verification_attempts': None, 'slice_ids': None, 'manual_verification': None, 'max_verification_attempts': 5, 'next_max_verification_attempts_reset_unix_ms': 1700000000000}, 'labels': {'accent': 'Australian', 'description': 'natural', 'age': 'middle aged', 'gender': 'male', 'use_case': 'conversational'}, 'description': None, 'preview_url': 'https://storage.googleapis.com/eleven-public-prod/premade/voices/IKne3meq5aSn9XLyUdCD/102de6f2-22ed-43e0-a1f1-111fa75c5481.mp3', 'available_for_tiers': [], 'settings': None, 'sharing': None, 'high_quality_base_model_ids': ['eleven_multilingual_v1', 'eleven_turbo_v2', 'eleven_multilingual_v2', 'eleven_turbo_v2_5'], 'safety_control': None, 'voice_verification': {'requires_verification': False, 'is_verified': False, 'verification_failures': [], 'verification_attempts_count': 0, 'language': None, 'verification_attempts': None}, 'permission_on_resource': None, 'is_owner': False, 'is_legacy': False, 'is_mixed': False, 'created_at_unix': None}, {'voice_id': 'JBFqnCBsd6RMkjVDRZzb', 'name': 'George', 'samples': None, 'category': 'premade', 'fine_tuning': {'is_allowed_to_fine_tune': True, 'state': {'eleven_turbo_v2': 'fine_tuned'}, 'verification_failures': [], 'verification_attempts_count': 0, 'manual_verification_requested': False, 'language': 'en', 'progress': {}, 'message': {'eleven_turbo_v2': ''}, 'dataset_duration_seconds': None, 'verification_attempts': None, 'slice_ids': None, 'manual_verification': None, 'max_verification_attempts': 5, 'next_max_verification_attempts_reset_unix_ms': 1700000000000}, 'labels': {'accent': 'British', 'description': 'warm', 'age': 'middle aged', 'gender': 'male', 'use_case': 'narration'}, 'description': None, 'preview_url': 'https://storage.googleapis.com/eleven-public-prod/premade/voices/JBFqnCBsd6RMkjVDRZzb/e6206d1a-0721-4787-aafb-06a6e705cac5.mp3', 'available_for_tiers': [], 'settings': None, 'sharing': None, 'high_quality_base_model_ids': ['eleven_turbo_v2', 'eleven_multilingual_v2', 'eleven_turbo_v2_5'], 'safety_control': None, 'voice_verification': {'requires_verification': False, 'is_verified': False, 'verification_failures': [], 'verification_attempts_count': 0, 'language': None, 'verification_attempts': None}, 'permission_on_resource': None, 'is_owner': False, 'is_legacy': False, 'is_mixed': False, 'created_at_unix': None}, {'voice_id': 'N2lVS1w4EtoT3dr4eOWO', 'name': 'Callum', 'samples': None, 'category': 'premade', 'fine_tuning': {'is_allowed_to_fine_tune': True, 'state': {'eleven_turbo_v2': 'fine_tuned'}, 'verification_failures': [], 'verification_attempts_count': 0, 'manual_verification_requested': False, 'language': 'en', 'progress': {}, 'message': {'eleven_turbo_v2': ''}, 'dataset_duration_seconds': None, 'verification_attempts': None, 'slice_ids': None, 'manual_verification': None, 'max_verification_attempts': 5, 'next_max_verification_attempts_reset_unix_ms': 1700000000000}, 'labels': {'accent': 'Transatlantic', 'description': 'intense', 'age': 'middle-aged', 'gender': 'male', 'use_case': 'characters'}, 'description': None, 'preview_url': 'https://storage.googleapis.com/eleven-public-prod/premade/voices/N2lVS1w4EtoT3dr4eOWO/ac833bd8-ffda-4938-9ebc-b0f99ca25481.mp3', 'available_for_tiers': [], 'settings': None, 'sharing': None, 'high_quality_base_model_ids': ['eleven_multilingual_v1', 'eleven_turbo_v2', 'eleven_multilingual_v2', 'eleven_turbo_v2_5'], 'safety_control': None, 'voice_verification': {'requires_verification': False, 'is_verified': False, 'verification_failures': [], 'verification_attempts_count': 0, 'language': None, 'verification_attempts': None}, 'permission_on_resource': None, 'is_owner': False, 'is_legacy': False, 'is_mixed': False, 'created_at_unix': None}, {'voice_id': 'SAz9YHcvj6GT2YYXdXww', 'name': 'River', 'samples': None, 'category': 'premade', 'fine_tuning': {'is_allowed_to_fine_tune': True, 'state': {'eleven_multilingual_v2': 'fine_tuned', 'eleven_turbo_v2_5': 'fine_tuned', 'eleven_turbo_v2': 'fine_tuned', 'eleven_multilingual_sts_v2': 'fine_tuned'}, 'verification_failures': [], 'verification_attempts_count': 0, 'manual_verification_requested': False, 'language': 'en', 'progress': {}, 'message': {'eleven_multilingual_v2': '', 'eleven_turbo_v2_5': '', 'eleven_turbo_v2': '', 'eleven_multilingual_sts_v2': ''}, 'dataset_duration_seconds': None, 'verification_attempts': None, 'slice_ids': None, 'manual_verification': None, 'max_verification_attempts': 5, 'next_max_verification_attempts_reset_unix_ms': 1700000000000}, 'labels': {'accent': 'American', 'description': 'confident', 'age': 'middle-aged', 'gender': 'non-binary', 'use_case': 'social media'}, 'description': None, 'preview_url': 'https://storage.googleapis.com/eleven-public-prod/premade/voices/SAz9YHcvj6GT2YYXdXww/e6c95f0b-2227-491a-b3d7-2249240decb7.mp3', 'available_for_tiers': [], 'settings': None, 'sharing': None, 'high_quality_base_model_ids': ['eleven_turbo_v2', 'eleven_turbo_v2_5', 'eleven_multilingual_v2', 'eleven_multilingual_sts_v2'], 'safety_control': None, 'voice_verification': {'requires_verification': False, 'is_verified': False, 'verification_failures': [], 'verification_attempts_count': 0, 'language': None, 'verification_attempts': None}, 'permission_on_resource': None, 'is_owner': False, 'is_legacy': False, 'is_mixed': False, 'created_at_unix': None}, {'voice_id': 'TX3LPaxmHKxFdv7VOQHJ', 'name': 'Liam', 'samples': None, 'category': 'premade', 'fine_tuning': {'is_allowed_to_fine_tune': True, 'state': {'eleven_turbo_v2': 'fine_tuned'}, 'verification_failures': [], 'verification_attempts_count': 0, 'manual_verification_requested': False, 'language': 'en', 'progress': {}, 'message': {'eleven_turbo_v2': ''}, 'dataset_duration_seconds': None, 'verification_attempts': None, 'slice_ids': None, 'manual_verification': None, 'max_verification_attempts': 5, 'next_max_verification_attempts_reset_unix_ms': 1700000000000}, 'labels': {'accent': 'American', 'description': 'articulate', 'age': 'young', 'gender': 'male', 'use_case': 'narration'}, 'description': None, 'preview_url': 'https://storage.googleapis.com/eleven-public-prod/premade/voices/TX3LPaxmHKxFdv7VOQHJ/63148076-6363-42db-aea8-31424308b92c.mp3', 'available_for_tiers': [], 'settings': None, 'sharing': None, 'high_quality_base_model_ids': ['eleven_multilingual_v1', 'eleven_turbo_v2', 'eleven_multilingual_v2', 'eleven_turbo_v2_5'], 'safety_control': None, 'voice_verification': {'requires_verification': False, 'is_verified': False, 'verification_failures': [], 'verification_attempts_count': 0, 'language': None, 'verification_attempts': None}, 'permission_on_resource': None, 'is_owner': False, 'is_legacy': False, 'is_mixed': False, 'created_at_unix': None}, {'voice_id': 'XB0fDUnXU5powFXDhCwa', 'name': 'Charlotte', 'samples': None, 'category': 'premade', 'fine_tuning': {'is_allowed_to_fine_tune': True, 'state': {'eleven_turbo_v2': 'fine_tuned'}, 'verification_failures': [], 'verification_attempts_count': 0, 'manual_verification_requested': False, 'language': 'en', 'progress': {}, 'message': {'eleven_multilingual_v2': '', 'eleven_turbo_v2_5': '', 'eleven_turbo_v2': ''}, 'dataset_duration_seconds': None, 'verification_attempts': None, 'slice_ids': None, 'manual_verification': None, 'max_verification_attempts': 5, 'next_max_verification_attempts_reset_unix_ms': 1700000000000}, 'labels': {'accent': 'Swedish', 'description': 'seductive', 'age': 'young', 'gender': 'female', 'use_case': 'characters'}, 'description': None, 'preview_url': 'https://storage.googleapis.com/eleven-public-prod/premade/voices/XB0fDUnXU5powFXDhCwa/942356dc-f10d-4d89-bda5-4f8505ee038b.mp3', 'available_for_tiers': [], 'settings': None, 'sharing': None, 'high_quality_base_model_ids': ['eleven_multilingual_v1', 'eleven_turbo_v2', 'eleven_multilingual_v2', 'eleven_turbo_v2_5'], 'safety_control': None, 'voice_verification': {'requires_verification': False, 'is_verified': False, 'verification_failures': [], 'verification_attempts_count': 0, 'language': None, 'verification_attempts': None}, 'permission_on_resource': None, 'is_owner': False, 'is_legacy': False, 'is_mixed': False, 'created_at_unix': None}, {'voice_id': 'Xb7hH8MSUJpSbSDYk0k2', 'name': 'Alice', 'samples': None, 'category': 'premade', 'fine_tuning': {'is_allowed_to_fine_tune': True, 'state': {'eleven_turbo_v2': 'fine_tuned'}, 'verification_failures': [], 'verification_attempts_count': 0, 'manual_verification_requested': False, 'language': 'en', 'progress': {}, 'message': {'eleven_turbo_v2': ''}, 'dataset_duration_seconds': None, 'verification_attempts': None, 'slice_ids': None, 'manual_verification': None, 'max_verification_attempts': 5, 'next_max_verification_attempts_reset_unix_ms': 1700000000000}, 'labels': {'accent': 'British', 'description': 'confident', 'age': 'middle-aged', 'gender': 'female', 'use_case': 'news'}, 'description': None, 'preview_url': 'https://storage.googleapis.com/eleven-public-prod/premade/voices/Xb7hH8MSUJpSbSDYk0k2/d10f7534-11f6-41fe-a012-2de1e482d336.mp3', 'available_for_tiers': [], 'settings': None, 'sharing': None, 'high_quality_base_model_ids': ['eleven_turbo_v2', 'eleven_multilingual_v2', 'eleven_turbo_v2_5'], 'safety_control': None, 'voice_verification': {'requires_verification': False, 'is_verified': False, 'verification_failures': [], 'verification_attempts_count': 0, 'language': None, 'verification_attempts': None}, 'permission_on_resource': None, 'is_owner': False, 'is_legacy': False, 'is_mixed': False, 'created_at_unix': None}, {'voice_id': 'XrExE9yKIg1WjnnlVkGX', 'name': 'Matilda', 'samples': None, 'category': 'premade', 'fine_tuning': {'is_allowed_to_fine_tune': True, 'state': {'eleven_turbo_v2': 'fine_tuned'}, 'verification_failures': [], 'verification_attempts_count': 0, 'manual_verification_requested': False, 'language': 'en', 'progress': {}, 'message': {'eleven_turbo_v2': ''}, 'dataset_duration_seconds': None, 'verification_attempts': None, 'slice_ids': None, 'manual_verification': None, 'max_verification_attempts': 5, 'next_max_verification_attempts_reset_unix_ms': 1700000000000}, 'labels': {'accent': 'American', 'description': 'friendly', 'age': 'middle-aged', 'gender': 'female', 'use_case': 'narration'}, 'description': None, 'preview_url': 'https://storage.googleapis.com/eleven-public-prod/premade/voices/XrExE9yKIg1WjnnlVkGX/b930e18d-6b4d-466e-bab2-0ae97c6d8535.mp3', 'available_for_tiers': [], 'settings': None, 'sharing': None, 'high_quality_base_model_ids': ['eleven_multilingual_v1', 'eleven_turbo_v2', 'eleven_multilingual_v2', 'eleven_turbo_v2_5'], 'safety_control': None, 'voice_verification': {'requires_verification': False, 'is_verified': False, 'verification_failures': [], 'verification_attempts_count': 0, 'language': None, 'verification_attempts': None}, 'permission_on_resource': None, 'is_owner': False, 'is_legacy': False, 'is_mixed': False, 'created_at_unix': None}, {'voice_id': 'bIHbv24MWmeRgasZH58o', 'name': 'Will', 'samples': None, 'category': 'premade', 'fine_tuning': {'is_allowed_to_fine_tune': True, 'state': {'eleven_multilingual_v2': 'fine_tuned', 'eleven_turbo_v2_5': 'fine_tuned', 'eleven_turbo_v2': 'fine_tuned'}, 'verification_failures': [], 'verification_attempts_count': 0, 'manual_verification_requested': False, 'language': 'en', 'progress': {}, 'message': {'eleven_multilingual_v2': '', 'eleven_turbo_v2_5': '', 'eleven_turbo_v2': ''}, 'dataset_duration_seconds': None, 'verification_attempts': None, 'slice_ids': None, 'manual_verification': None, 'max_verification_attempts': 5, 'next_max_verification_attempts_reset_unix_ms': 1700000000000}, 'labels': {'accent': 'American', 'description': 'friendly', 'age': 'young', 'gender': 'male', 'use_case': 'social media'}, 'description': None, 'preview_url': 'https://storage.googleapis.com/eleven-public-prod/premade/voices/bIHbv24MWmeRgasZH58o/8caf8f3d-ad29-4980-af41-53f20c72d7a4.mp3', 'available_for_tiers': [], 'settings': None, 'sharing': None, 'high_quality_base_model_ids': ['eleven_turbo_v2', 'eleven_multilingual_v2', 'eleven_turbo_v2_5'], 'safety_control': None, 'voice_verification': {'requires_verification': False, 'is_verified': False, 'verification_failures': [], 'verification_attempts_count': 0, 'language': None, 'verification_attempts': None}, 'permission_on_resource': None, 'is_owner': False, 'is_legacy': False, 'is_mixed': False, 'created_at_unix': None}, {'voice_id': 'cgSgspJ2msm6clMCkdW9', 'name': 'Jessica', 'samples': None, 'category': 'premade', 'fine_tuning': {'is_allowed_to_fine_tune': True, 'state': {'eleven_multilingual_v2': 'fine_tuned', 'eleven_turbo_v2_5': 'fine_tuned', 'eleven_turbo_v2': 'fine_tuned'}, 'verification_failures': [], 'verification_attempts_count': 0, 'manual_verification_requested': False, 'language': 'en', 'progress': {}, 'message': {'eleven_multilingual_v2': '', 'eleven_turbo_v2_5': '', 'eleven_turbo_v2': ''}, 'dataset_duration_seconds': None, 'verification_attempts': None, 'slice_ids': None, 'manual_verification': None, 'max_verification_attempts': 5, 'next_max_verification_attempts_reset_unix_ms': 1700000000000}, 'labels': {'accent': 'American', 'description': 'expressive', 'age': 'young', 'gender': 'female', 'use_case': 'conversational'}, 'description': None, 'preview_url': 'https://storage.googleapis.com/eleven-public-prod/premade/voices/cgSgspJ2msm6clMCkdW9/56a97bf8-b69b-448f-846c-c3a11683d45a.mp3', 'available_for_tiers': [], 'settings': None, 'sharing': None, 'high_quality_base_model_ids': ['eleven_turbo_v2', 'eleven_multilingual_v2', 'eleven_turbo_v2_5'], 'safety_control': None, 'voice_verification': {'requires_verification': False, 'is_verified': False, 'verification_failures': [], 'verification_attempts_count': 0, 'language': None, 'verification_attempts': None}, 'permission_on_resource': None, 'is_owner': False, 'is_legacy': False, 'is_mixed': False, 'created_at_unix': None}, {'voice_id': 'cjVigY5qzO86Huf0OWal', 'name': 'Eric', 'samples': None, 'category': 'premade', 'fine_tuning': {'is_allowed_to_fine_tune': True, 'state': {'eleven_multilingual_v2': 'fine_tuned', 'eleven_turbo_v2_5': 'fine_tuned', 'eleven_turbo_v2': 'fine_tuned'}, 'verification_failures': [], 'verification_attempts_count': 0, 'manual_verification_requested': False, 'language': 'en', 'progress': {}, 'message': {'eleven_multilingual_v2': '', 'eleven_turbo_v2_5': '', 'eleven_turbo_v2': ''}, 'dataset_duration_seconds': None, 'verification_attempts': None, 'slice_ids': None, 'manual_verification': None, 'max_verification_attempts': 5, 'next_max_verification_attempts_reset_unix_ms': 1700000000000}, 'labels': {'accent': 'American', 'description': 'friendly', 'age': 'middle-aged', 'gender': 'male', 'use_case': 'conversational'}, 'description': None, 'preview_url': 'https://storage.googleapis.com/eleven-public-prod/premade/voices/cjVigY5qzO86Huf0OWal/d098fda0-6456-4030-b3d8-63aa048c9070.mp3', 'available_for_tiers': [], 'settings': None, 'sharing': None, 'high_quality_base_model_ids': ['eleven_turbo_v2', 'eleven_multilingual_v2', 'eleven_turbo_v2_5'], 'safety_control': None, 'voice_verification': {'requires_verification': False, 'is_verified': False, 'verification_failures': [], 'verification_attempts_count': 0, 'language': None, 'verification_attempts': None}, 'permission_on_resource': None, 'is_owner': False, 'is_legacy': False, 'is_mixed': False, 'created_at_unix': None}, {'voice_id': 'iP95p4xoKVk53GoZ742B', 'name': 'Chris', 'samples': None, 'category': 'premade', 'fine_tuning': {'is_allowed_to_fine_tune': True, 'state': {'eleven_turbo_v2': 'fine_tuned'}, 'verification_failures': [], 'verification_attempts_count': 0, 'manual_verification_requested': False, 'language': 'en', 'progress': {}, 'message': {'eleven_turbo_v2': ''}, 'dataset_duration_seconds': None, 'verification_attempts': None, 'slice_ids': None, 'manual_verification': None, 'max_verification_attempts': 5, 'next_max_verification_attempts_reset_unix_ms': 1700000000000}, 'labels': {'accent': 'American', 'description': 'casual', 'age': 'middle-aged', 'gender': 'male', 'use_case': 'conversational'}, 'description': None, 'preview_url': 'https://storage.googleapis.com/eleven-public-prod/premade/voices/iP95p4xoKVk53GoZ742B/3f4bde72-cc48-40dd-829f-57fbf906f4d7.mp3', 'available_for_tiers': [], 'settings': None, 'sharing': None, 'high_quality_base_model_ids': ['eleven_turbo_v2', 'eleven_multilingual_v2', 'eleven_turbo_v2_5'], 'safety_control': None, 'voice_verification': {'requires_verification': False, 'is_verified': False, 'verification_failures': [], 'verification_attempts_count': 0, 'language': None, 'verification_attempts': None}, 'permission_on_resource': None, 'is_owner': False, 'is_legacy': False, 'is_mixed': False, 'created_at_unix': None}, {'voice_id': 'nPczCjzI2devNBz1zQrb', 'name': 'Brian', 'samples': None, 'category': 'premade', 'fine_tuning': {'is_allowed_to_fine_tune': True, 'state': {'eleven_turbo_v2': 'fine_tuned'}, 'verification_failures': [], 'verification_attempts_count': 0, 'manual_verification_requested': False, 'language': 'en', 'progress': {}, 'message': {'eleven_turbo_v2': ''}, 'dataset_duration_seconds': None, 'verification_attempts': None, 'slice_ids': None, 'manual_verification': None, 'max_verification_attempts': 5, 'next_max_verification_attempts_reset_unix_ms': 1700000000000}, 'labels': {'accent': 'American', 'description': 'deep', 'age': 'middle-aged', 'gender': 'male', 'use_case': 'narration'}, 'description': None, 'preview_url': 'https://storage.googleapis.com/eleven-public-prod/premade/voices/nPczCjzI2devNBz1zQrb/2dd3e72c-4fd3-42f1-93ea-abc5d4e5aa1d.mp3', 'available_for_tiers': [], 'settings': None, 'sharing': None, 'high_quality_base_model_ids': ['eleven_turbo_v2', 'eleven_multilingual_v2', 'eleven_turbo_v2_5'], 'safety_control': None, 'voice_verification': {'requires_verification': False, 'is_verified': False, 'verification_failures': [], 'verification_attempts_count': 0, 'language': None, 'verification_attempts': None}, 'permission_on_resource': None, 'is_owner': False, 'is_legacy': False, 'is_mixed': False, 'created_at_unix': None}, {'voice_id': 'onwK4e9ZLuTAKqWW03F9', 'name': 'Daniel', 'samples': None, 'category': 'premade', 'fine_tuning': {'is_allowed_to_fine_tune': True, 'state': {'eleven_turbo_v2': 'fine_tuned'}, 'verification_failures': [], 'verification_attempts_count': 0, 'manual_verification_requested': False, 'language': 'en', 'progress': {}, 'message': {'eleven_turbo_v2': ''}, 'dataset_duration_seconds': None, 'verification_attempts': None, 'slice_ids': None, 'manual_verification': None, 'max_verification_attempts': 5, 'next_max_verification_attempts_reset_unix_ms': 1700000000000}, 'labels': {'accent': 'British', 'description': 'authoritative', 'age': 'middle-aged', 'gender': 'male', 'use_case': 'news'}, 'description': None, 'preview_url': 'https://storage.googleapis.com/eleven-public-prod/premade/voices/onwK4e9ZLuTAKqWW03F9/7eee0236-1a72-4b86-b303-5dcadc007ba9.mp3', 'available_for_tiers': [], 'settings': None, 'sharing': None, 'high_quality_base_model_ids': ['eleven_multilingual_v1', 'eleven_turbo_v2', 'eleven_multilingual_v2', 'eleven_turbo_v2_5'], 'safety_control': None, 'voice_verification': {'requires_verification': False, 'is_verified': False, 'verification_failures': [], 'verification_attempts_count': 0, 'language': None, 'verification_attempts': None}, 'permission_on_resource': None, 'is_owner': False, 'is_legacy': False, 'is_mixed': False, 'created_at_unix': None}, {'voice_id': 'pFZP5JQG7iQjIQuC4Bku', 'name': 'Lily', 'samples': None, 'category': 'premade', 'fine_tuning': {'is_allowed_to_fine_tune': True, 'state': {'eleven_turbo_v2': 'fine_tuned'}, 'verification_failures': [], 'verification_attempts_count': 0, 'manual_verification_requested': False, 'language': 'en', 'progress': {}, 'message': {'eleven_turbo_v2': ''}, 'dataset_duration_seconds': None, 'verification_attempts': None, 'slice_ids': None, 'manual_verification': None, 'max_verification_attempts': 5, 'next_max_verification_attempts_reset_unix_ms': 1700000000000}, 'labels': {'accent': 'British', 'description': 'warm', 'age': 'middle-aged', 'gender': 'female', 'use_case': 'narration'}, 'description': None, 'preview_url': 'https://storage.googleapis.com/eleven-public-prod/premade/voices/pFZP5JQG7iQjIQuC4Bku/89b68b35-b3dd-4348-a84a-a3c13a3c2b30.mp3', 'available_for_tiers': [], 'settings': None, 'sharing': None, 'high_quality_base_model_ids': ['eleven_turbo_v2', 'eleven_multilingual_v2', 'eleven_turbo_v2_5'], 'safety_control': None, 'voice_verification': {'requires_verification': False, 'is_verified': False, 'verification_failures': [], 'verification_attempts_count': 0, 'language': None, 'verification_attempts': None}, 'permission_on_resource': None, 'is_owner': False, 'is_legacy': False, 'is_mixed': False, 'created_at_unix': None}, {'voice_id': 'pqHfZKP75CvOlQylNhV4', 'name': 'Bill', 'samples': None, 'category': 'premade', 'fine_tuning': {'is_allowed_to_fine_tune': True, 'state': {'eleven_turbo_v2': 'fine_tuned'}, 'verification_failures': [], 'verification_attempts_count': 0, 'manual_verification_requested': False, 'language': 'en', 'progress': {}, 'message': {'eleven_turbo_v2': ''}, 'dataset_duration_seconds': None, 'verification_attempts': None, 'slice_ids': None, 'manual_verification': None, 'max_verification_attempts': 5, 'next_max_verification_attempts_reset_unix_ms': 1700000000000}, 'labels': {'accent': 'American', 'description': 'trustworthy', 'age': 'old', 'gender': 'male', 'use_case': 'narration'}, 'description': None, 'preview_url': 'https://storage.googleapis.com/eleven-public-prod/premade/voices/pqHfZKP75CvOlQylNhV4/d782b3ff-84ba-4029-848c-acf01285524d.mp3', 'available_for_tiers': [], 'settings': None, 'sharing': None, 'high_quality_base_model_ids': ['eleven_turbo_v2', 'eleven_multilingual_v2', 'eleven_turbo_v2_5'], 'safety_control': None, 'voice_verification': {'requires_verification': False, 'is_verified': False, 'verification_failures': [], 'verification_attempts_count': 0, 'language': None, 'verification_attempts': None}, 'permission_on_resource': None, 'is_owner': False, 'is_legacy': False, 'is_mixed': False, 'created_at_unix': None}, {'voice_id': '4XgajbaeFaof5lQX7hEo', 'name': '이주영', 'samples': [{'sample_id': 'lO2EEm0Hlyy3GALzsJgQ', 'file_name': 'y2mate.com - 코드 1줄 Llama 2 내 데이터로 파인튜닝 Colab에서.mp3', 'mime_type': 'audio/mpeg', 'size_bytes': 5488359, 'hash': '1364d58ef6b0d7a18bb2a3a7d1caf0a8'}], 'category': 'cloned', 'fine_tuning': {'is_allowed_to_fine_tune': False, 'state': {}, 'verification_failures': [], 'verification_attempts_count': 0, 'manual_verification_requested': False, 'language': None, 'progress': {}, 'message': {}, 'dataset_duration_seconds': None, 'verification_attempts': None, 'slice_ids': None, 'manual_verification': None, 'max_verification_attempts': None, 'next_max_verification_attempts_reset_unix_ms': None}, 'labels': {}, 'description': '', 'preview_url': 'https://storage.googleapis.com/eleven-public-prod/database/user/qVlFGjtdJ1cJ5GV5QUpEF7K3sQy2/voices/4XgajbaeFaof5lQX7hEo/b7634824-3613-4145-9fdc-44054a41b56a.mp3', 'available_for_tiers': [], 'settings': None, 'sharing': None, 'high_quality_base_model_ids': [], 'safety_control': None, 'voice_verification': {'requires_verification': False, 'is_verified': False, 'verification_failures': [], 'verification_attempts_count': 0, 'language': None, 'verification_attempts': None}, 'permission_on_resource': 'admin', 'is_owner': True, 'is_legacy': False, 'is_mixed': False, 'created_at_unix': 1733194617}]}\n"
     ]
    }
   ],
   "source": [
    "import requests\n",
    "# 내가 사용 가능한 voice_id가 뭐가있는지 확인하기 위한 코드\n",
    "url = \"https://api.elevenlabs.io/v1/voices\"\n",
    "headers = {\n",
    "    \"xi-api-key\": \"이거 공개하면 안됩니다"\n",
    "}\n",
    "\n",
    "response = requests.get(url, headers=headers)\n",
    "\n",
    "if response.status_code == 200:\n",
    "    print(response.json())\n",
    "else:\n",
    "    print(f\"오류 발생: {response.status_code} - {response.text}\")\n"
   ]
  },
  {
   "cell_type": "markdown",
   "id": "cb341800-0ad4-400c-b15a-d3fef502da43",
   "metadata": {},
   "source": [
    "보이스 아이디는 위에서 말고도 웹사이트 들어가서 \n",
    "1. create 탭의\n",
    "2. voices 칸 누르기\n",
    "3. 목소리 모델들 중 원하는 모델 [<-view]  버튼 누르기 \n",
    "4. 버튼 누르면 오른쪽 아래에 id 복사 칸 나옴\n",
    "이거랑 위에 나오는 아이디랑 같은거니까 원하는대로 쓰면됨"
   ]
  },
  {
   "cell_type": "code",
   "execution_count": 14,
   "id": "2b91a722-43af-4935-8eb9-fb133c239a9f",
   "metadata": {},
   "outputs": [
    {
     "name": "stdout",
     "output_type": "stream",
     "text": [
      "음성 파일이 output.mp3로 저장되었습니다.\n"
     ]
    }
   ],
   "source": [
    "from elevenlabs import ElevenLabs\n",
    "\n",
    "# ElevenLabs 클라이언트 초기화\n",
    "client = ElevenLabs(\n",
    "    api_key=\"sk_aed2e28e0bbd90061c4264b2890eec1c37435b4f43125533\",\n",
    ")\n",
    "\n",
    "# TTS 요청\n",
    "audio_generator = client.text_to_speech.convert(\n",
    "    voice_id=\"4XgajbaeFaof5lQX7hEo\",  # Voice ID ( 빵형 모델 아이디)\n",
    "    model_id=\"eleven_multilingual_v2\",  # 다국어 모델 (학습 모델이 여러개가 있음 그중 eleven_multilingual_v2를 많이 쓴다.)\n",
    "    text=\"정상적으로 실행 되었다면 빵형 목소리로 mp3 가 생성이 된다\", #(목소리로 바꿀 텍스트)\n",
    ")\n",
    "\n",
    "# 생성된 음성을 파일로 저장\n",
    "output_file = \"output.mp3\"   #output.mp3 파일로 생성함\n",
    "with open(output_file, \"wb\") as f:\n",
    "    for chunk in audio_generator:  # 제너레이터 순회\n",
    "        f.write(chunk)\n",
    "\n",
    "print(f\"음성 파일이 {output_file}로 저장되었습니다.\")\n"
   ]
  },
  {
   "cell_type": "code",
   "execution_count": 19,
   "id": "47cd5a1d-ceba-40fa-bdd5-3c150f33f5a8",
   "metadata": {},
   "outputs": [
    {
     "name": "stdout",
     "output_type": "stream",
     "text": [
      "음성 파일이 output2.mp3로 저장되었습니다.\n"
     ]
    }
   ],
   "source": [
    "from elevenlabs import ElevenLabs\n",
    "\n",
    "# ElevenLabs 클라이언트 초기화\n",
    "client = ElevenLabs(\n",
    "    api_key=\"sk_aed2e28e0bbd90061c4264b2890eec1c37435b4f43125533\",\n",
    ")\n",
    "\n",
    "# TTS 요청\n",
    "audio_generator = client.text_to_speech.convert(\n",
    "    voice_id=\"X1Jmp1QQbOVhd7xXXQRL\",  # Voice ID ( 코딩애플)\n",
    "    model_id=\"eleven_multilingual_v2\",  # 다국어 모델 (학습 모델이 여러개가 있음 그중 eleven_multilingual_v2를 많이 쓴다.)\n",
    "    text=\"안녕하세요 정상적으로 작동했다면 코딩애플의 목소리가 담겨서 나옵니다\", #(목소리로 바꿀 텍스트)\n",
    ")\n",
    "\n",
    "# 생성된 음성을 파일로 저장\n",
    "output_file = \"output2.mp3\"   #output.mp3 파일로 생성함\n",
    "with open(output_file, \"wb\") as f:\n",
    "    for chunk in audio_generator:  # 제너레이터 순회\n",
    "        f.write(chunk)\n",
    "\n",
    "print(f\"음성 파일이 {output_file}로 저장되었습니다.\")\n"
   ]
  },
  {
   "cell_type": "code",
   "execution_count": 20,
   "id": "0b2e8c67-720e-45f9-8a49-b45f23dac0f0",
   "metadata": {},
   "outputs": [
    {
     "name": "stdout",
     "output_type": "stream",
     "text": [
      "음성 파일이 output3.mp3로 저장되었습니다.\n"
     ]
    }
   ],
   "source": [
    "from elevenlabs import ElevenLabs\n",
    "\n",
    "# ElevenLabs 클라이언트 초기화\n",
    "client = ElevenLabs(\n",
    "    api_key=\"sk_aed2e28e0bbd90061c4264b2890eec1c37435b4f43125533\",\n",
    ")\n",
    "\n",
    "# TTS 요청\n",
    "audio_generator = client.text_to_speech.convert(\n",
    "    voice_id=\"mtkRlP2CvaLpJmIUrDk5\",  # Voice ID ( 김성회)\n",
    "    model_id=\"eleven_multilingual_v2\",  # 다국어 모델 (학습 모델이 여러개가 있음 그중 eleven_multilingual_v2를 많이 쓴다.)\n",
    "    text=\"안녕하세요 정상적으로 작동했다면 김성회의 목소리가 담겨서 나옵니다\", #(목소리로 바꿀 텍스트)\n",
    ")\n",
    "\n",
    "# 생성된 음성을 파일로 저장\n",
    "output_file = \"output3.mp3\"   #output.mp3 파일로 생성함\n",
    "with open(output_file, \"wb\") as f:\n",
    "    for chunk in audio_generator:  # 제너레이터 순회\n",
    "        f.write(chunk)\n",
    "\n",
    "print(f\"음성 파일이 {output_file}로 저장되었습니다.\")\n"
   ]
  },
  {
   "cell_type": "code",
   "execution_count": null,
   "id": "d2c0eb30-1600-43b6-b859-490177fba6e5",
   "metadata": {},
   "outputs": [],
   "source": []
  }
 ],
 "metadata": {
  "kernelspec": {
   "display_name": "Python 3 (ipykernel)",
   "language": "python",
   "name": "python3"
  },
  "language_info": {
   "codemirror_mode": {
    "name": "ipython",
    "version": 3
   },
   "file_extension": ".py",
   "mimetype": "text/x-python",
   "name": "python",
   "nbconvert_exporter": "python",
   "pygments_lexer": "ipython3",
   "version": "3.11.7"
  }
 },
 "nbformat": 4,
 "nbformat_minor": 5
}
